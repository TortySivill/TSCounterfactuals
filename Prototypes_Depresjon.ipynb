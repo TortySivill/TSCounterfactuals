{
 "cells": [
  {
   "cell_type": "code",
   "execution_count": null,
   "metadata": {},
   "outputs": [],
   "source": []
  },
  {
   "cell_type": "code",
   "execution_count": 98,
   "metadata": {},
   "outputs": [],
   "source": [
    "#analytics\n",
    "import pandas as pd\n",
    "import glob\n",
    "import numpy as np\n",
    "from sklearn.model_selection import train_test_split\n",
    "from sklearn import datasets\n",
    "from sklearn import svm\n",
    "from sklearn.linear_model import LogisticRegression\n",
    "from sklearn.naive_bayes import GaussianNB\n",
    "from sklearn.model_selection import cross_val_score\n",
    "from sklearn import metrics\n",
    "from entropy_python_library.entropy.entropy import *\n",
    "import mass_ts as mts\n",
    "\n",
    "# visuals\n",
    "import matplotlib.pyplot as plt"
   ]
  },
  {
   "cell_type": "code",
   "execution_count": 99,
   "metadata": {},
   "outputs": [],
   "source": [
    "\n",
    "import sys\n",
    "sys.path.append('../../../stumpy/my_stumpy/')\n",
    "import stumpy\n",
    "#window_size = 4200\n",
    "\n",
    "#robust to window size?"
   ]
  },
  {
   "cell_type": "markdown",
   "metadata": {},
   "source": [
    "## Import Condition Data"
   ]
  },
  {
   "cell_type": "code",
   "execution_count": 100,
   "metadata": {},
   "outputs": [],
   "source": [
    "path = \"data/useful/depresjon/\""
   ]
  },
  {
   "cell_type": "code",
   "execution_count": 101,
   "metadata": {},
   "outputs": [],
   "source": [
    "    \n",
    "condition = [pd.read_csv(f,header=0, index_col=0, parse_dates=True, squeeze=True) for f in glob.glob(path + \"data/condition/*.csv\")]\n",
    "control = [pd.read_csv(f,header=0, index_col=0, parse_dates=True, squeeze=True) for f in glob.glob(path + \"data/control/*.csv\")]"
   ]
  },
  {
   "cell_type": "code",
   "execution_count": 102,
   "metadata": {},
   "outputs": [],
   "source": [
    "control_mean = [np.mean(x) for x in control]\n",
    "condition_mean = [np.mean(x) for x in condition]\n",
    "\n"
   ]
  },
  {
   "cell_type": "markdown",
   "metadata": {},
   "source": [
    "## Extract Features"
   ]
  },
  {
   "cell_type": "markdown",
   "metadata": {},
   "source": [
    "### Extracting the following features from selected data\n",
    "\n",
    "<ol>\n",
    "<li>Mean Activity Level</li>\n",
    "<li>Standard Deviation</li>\n",
    "<li> Trimmed Mean </li>\n",
    "</ol>"
   ]
  },
  {
   "cell_type": "code",
   "execution_count": 103,
   "metadata": {},
   "outputs": [],
   "source": [
    "\n",
    "# separate into condition and control lists\n",
    "x = np.zeros(23)\n",
    "y = np.ones(len(control))\n",
    "index = np.hstack((x,y))\n",
    "df_scores = pd.read_csv(path + 'data/scores.csv')\n",
    "df_scores['group'] = index\n",
    "\n",
    "split_scores_control = list(df_scores.groupby('group'))[1]\n",
    "split_scores_condition = list(df_scores.groupby('group'))[0]\n",
    "\n",
    "# Clean data to only include the first n days of data records\n",
    "limited_control = [list(x.groupby('date'))[0:y] for x, y in zip(control,split_scores_control[1]['days'])]\n",
    "limited_condition =[list(x.groupby('date'))[0:y] for x, y in zip(condition,split_scores_condition[1]['days'])]\n",
    "\n",
    "untupled_list = []\n",
    "for y in limited_control:\n",
    "    untupled_list.append([x[1] for x in y])\n",
    "limited_control_df = [pd.concat(x) for x in untupled_list]\n",
    "\n",
    "untupled_list = []\n",
    "for y in limited_condition:\n",
    "    untupled_list.append([x[1] for x in y])\n",
    "limited_condition_df = [pd.concat(x) for x in untupled_list]"
   ]
  },
  {
   "cell_type": "code",
   "execution_count": 104,
   "metadata": {},
   "outputs": [],
   "source": [
    "\n",
    "training_data_raw = [x['activity'].values for x in limited_condition_df] + [x['activity'].values for x in limited_control_df]"
   ]
  },
  {
   "cell_type": "code",
   "execution_count": 105,
   "metadata": {},
   "outputs": [],
   "source": [
    "def normalise(X):\n",
    "    return [(x - min(X))/(max(X)-min(X)) for x in X]"
   ]
  },
  {
   "cell_type": "code",
   "execution_count": 106,
   "metadata": {},
   "outputs": [],
   "source": [
    "y = np.asarray([1 for x in range(0,len(condition))] + [0 for x in range(0,len(control))])\n"
   ]
  },
  {
   "cell_type": "code",
   "execution_count": 107,
   "metadata": {},
   "outputs": [
    {
     "data": {
      "text/plain": [
       "23"
      ]
     },
     "execution_count": 107,
     "metadata": {},
     "output_type": "execute_result"
    }
   ],
   "source": [
    "len(condition)"
   ]
  },
  {
   "cell_type": "code",
   "execution_count": 108,
   "metadata": {},
   "outputs": [
    {
     "data": {
      "text/plain": [
       "32"
      ]
     },
     "execution_count": 108,
     "metadata": {},
     "output_type": "execute_result"
    }
   ],
   "source": [
    "len(control)"
   ]
  },
  {
   "cell_type": "code",
   "execution_count": 109,
   "metadata": {},
   "outputs": [],
   "source": [
    "control_prototype = [x['activity'].values for x in control][0:8]\n",
    "condition_prototype = [x['activity'].values for x in condition][0:6]\n",
    "\n",
    "control_evaluate = [x['activity'].values for x in control][8:32]\n",
    "condition_evaluate = [x['activity'].values for x in condition][6:23]"
   ]
  },
  {
   "cell_type": "code",
   "execution_count": 110,
   "metadata": {},
   "outputs": [],
   "source": [
    "y_prototype =  np.asarray([1 for x in range(0,len(control_prototype))] + [0 for x in range(0,len(condition_prototype))])"
   ]
  },
  {
   "cell_type": "code",
   "execution_count": 111,
   "metadata": {},
   "outputs": [],
   "source": [
    "y_evaluate = np.asarray([1 for x in range(0,len(control_evaluate))] + [0 for x in range(0,len(condition_evaluate))])"
   ]
  },
  {
   "cell_type": "code",
   "execution_count": 112,
   "metadata": {},
   "outputs": [],
   "source": [
    "selected_window = 2500"
   ]
  },
  {
   "cell_type": "code",
   "execution_count": 113,
   "metadata": {},
   "outputs": [],
   "source": [
    "def extract_top_shapelet_pair(x, window):\n",
    "    time_series = np.array(x,dtype=float)\n",
    "    window_size = window # Approximately, how many data points might be found in a pattern\n",
    "    matrix_profile = stumpy.stump(time_series, m=window)\n",
    "    df_matrix_profile = pd.DataFrame()\n",
    " \n",
    "    df_matrix_profile['distances']= matrix_profile[:,0]\n",
    "    df_matrix_profile['neighbour_index']= matrix_profile[:,1]\n",
    "    df_matrix_profile['indexes']= df_matrix_profile.index\n",
    "    top_motifs = df_matrix_profile.sort_values(by='distances')\n",
    "    left_index = top_motifs['indexes'].iloc[0]\n",
    "    right_index = top_motifs['indexes'].iloc[1]\n",
    "    selected_subsequence = x[left_index:left_index + window_size]\n",
    "    selected_partner = x[right_index:right_index + window_size]\n",
    "    return(selected_subsequence, selected_partner)"
   ]
  },
  {
   "cell_type": "code",
   "execution_count": 114,
   "metadata": {},
   "outputs": [],
   "source": [
    "def extract_top_shapelet(x, window):\n",
    "    time_series = np.array(x,dtype=float)\n",
    "    window_size = window # Approximately, how many data points might be found in a pattern\n",
    "    matrix_profile = stumpy.stump(time_series, m=window)\n",
    "    df_matrix_profile = pd.DataFrame()\n",
    " \n",
    "    df_matrix_profile['distances']= matrix_profile[:,0]\n",
    "    df_matrix_profile['neighbour_index']= matrix_profile[:,1]\n",
    "    df_matrix_profile['indexes']= df_matrix_profile.index\n",
    "    top_motifs = df_matrix_profile.sort_values(by='distances')\n",
    "    left_index = top_motifs['indexes'].iloc[0]\n",
    "    right_index = top_motifs['neighbour_index'].iloc[0]\n",
    "    selected_subsequence = x[left_index:left_index + window_size]\n",
    "    print(selected_subsequence)\n",
    "    return(selected_subsequence)\n",
    "    \n",
    "    "
   ]
  },
  {
   "cell_type": "code",
   "execution_count": 115,
   "metadata": {},
   "outputs": [
    {
     "name": "stdout",
     "output_type": "stream",
     "text": [
      "[469   8   3 ...   5   5   5]\n",
      "[1336 1178  372 ...  261  261  261]\n",
      "[1055  990  901 ...   22   93    2]\n",
      "[2341 1418  854 ...    5    5    5]\n",
      "[  3   3   3 ...   5  12 758]\n"
     ]
    },
    {
     "name": "stderr",
     "output_type": "stream",
     "text": [
      "/Users/tortysivill/.pyenv/versions/3.7.3/envs/entropy/lib/python3.7/site-packages/stumpy/core.py:427: RuntimeWarning: invalid value encountered in sqrt\n",
      "  return np.sqrt(welford_nanvar(a, w))\n"
     ]
    },
    {
     "name": "stdout",
     "output_type": "stream",
     "text": [
      "[0 0 0 ... 0 0 0]\n",
      "[0 0 0 ... 0 0 0]\n",
      "[5 5 5 ... 5 5 5]\n",
      "[0 0 0 ... 0 0 0]\n",
      "[396 467 325 ... 284   0   0]\n",
      "[0 0 0 ... 0 0 0]\n",
      "[  0   6 130 ...  44  58 125]\n",
      "[249  40  14 ...   0   0   0]\n",
      "[  0   0   0 ... 259 158 234]\n"
     ]
    }
   ],
   "source": [
    "control_subsequences = []\n",
    "condition_subsequences = []\n",
    "\n",
    "window_size = selected_window\n",
    "\n",
    "for x in control_prototype:\n",
    "    subsequence = extract_top_shapelet(x, window_size)\n",
    "    control_subsequences.append(subsequence)\n",
    "for x in condition_prototype:\n",
    "    subsequence = extract_top_shapelet(x, window_size)\n",
    "    condition_subsequences.append(subsequence)\n"
   ]
  },
  {
   "cell_type": "code",
   "execution_count": 116,
   "metadata": {},
   "outputs": [
    {
     "name": "stdout",
     "output_type": "stream",
     "text": [
      "   control_distance  condition_distance  distance_difference  indexes\n",
      "5       7191.179111         9635.282638          2444.103527        5\n"
     ]
    }
   ],
   "source": [
    "import scipy\n",
    "\n",
    "control_candidate_distances = []\n",
    "condition_candidate_distances = []\n",
    "\n",
    "\n",
    "\n",
    "for candidate in control_subsequences: \n",
    "\n",
    "    control_distances = []\n",
    "    condition_distances = []\n",
    "    for x in control_subsequences:\n",
    "        distance = scipy.spatial.distance.euclidean(x, candidate)\n",
    "        if distance != 0:\n",
    "            control_distances.append(distance)\n",
    "    control_candidate_distances.append(np.mean(control_distances))\n",
    "    for x in condition_subsequences:\n",
    "        distance = scipy.spatial.distance.euclidean(x, candidate)\n",
    "        if distance != 0:\n",
    "            condition_distances.append(distance)\n",
    "    condition_candidate_distances.append(np.mean(condition_distances))\n",
    "\n",
    "difference = np.asarray(condition_candidate_distances) - np.asarray(control_candidate_distances)\n",
    "    \n",
    "candidate_distance_df_control = pd.DataFrame()\n",
    "candidate_distance_df_control['control_distance'] = control_candidate_distances\n",
    "candidate_distance_df_control['condition_distance'] = condition_candidate_distances\n",
    "candidate_distance_df_control['distance_difference'] = difference\n",
    "candidate_distance_df_control['indexes'] = candidate_distance_df_control.index\n",
    "\n",
    "\n",
    "sorted_candidate_df_control = candidate_distance_df_control.sort_values(by='distance_difference')\n",
    "first_candidate_control = sorted_candidate_df_control['indexes'].iloc[-1]\n",
    "second_candidate_control = sorted_candidate_df_control['indexes'].iloc[-2]\n",
    "#print(sorted_candidate_df_control['indexes'].iloc[-2])\n",
    "print(candidate_distance_df_control[candidate_distance_df_control['distance_difference']==max(candidate_distance_df_control['distance_difference'])])"
   ]
  },
  {
   "cell_type": "code",
   "execution_count": 117,
   "metadata": {},
   "outputs": [
    {
     "data": {
      "text/html": [
       "<div>\n",
       "<style scoped>\n",
       "    .dataframe tbody tr th:only-of-type {\n",
       "        vertical-align: middle;\n",
       "    }\n",
       "\n",
       "    .dataframe tbody tr th {\n",
       "        vertical-align: top;\n",
       "    }\n",
       "\n",
       "    .dataframe thead th {\n",
       "        text-align: right;\n",
       "    }\n",
       "</style>\n",
       "<table border=\"1\" class=\"dataframe\">\n",
       "  <thead>\n",
       "    <tr style=\"text-align: right;\">\n",
       "      <th></th>\n",
       "      <th>control_distance</th>\n",
       "      <th>condition_distance</th>\n",
       "      <th>distance_difference</th>\n",
       "      <th>indexes</th>\n",
       "    </tr>\n",
       "  </thead>\n",
       "  <tbody>\n",
       "    <tr>\n",
       "      <th>4</th>\n",
       "      <td>17840.438459</td>\n",
       "      <td>16193.188679</td>\n",
       "      <td>1647.24978</td>\n",
       "      <td>4</td>\n",
       "    </tr>\n",
       "  </tbody>\n",
       "</table>\n",
       "</div>"
      ],
      "text/plain": [
       "   control_distance  condition_distance  distance_difference  indexes\n",
       "4      17840.438459        16193.188679           1647.24978        4"
      ]
     },
     "execution_count": 117,
     "metadata": {},
     "output_type": "execute_result"
    }
   ],
   "source": [
    "import scipy\n",
    "\n",
    "\n",
    "control_candidate_distances = []\n",
    "condition_candidate_distances = []\n",
    "\n",
    "\n",
    "for candidate in condition_subsequences:    \n",
    "    control_distances = []\n",
    "    condition_distances = []\n",
    "    for x in control_subsequences:\n",
    "        distance = scipy.spatial.distance.euclidean(x, candidate)\n",
    "        if distance != 0:\n",
    "        #print(distance)\n",
    "            control_distances.append(distance)\n",
    "    control_candidate_distances.append(np.mean(control_distances))\n",
    "    for x in condition_subsequences:\n",
    "        distance = scipy.spatial.distance.euclidean(x, candidate)\n",
    "        #print(distance)\n",
    "        if distance != 0:\n",
    "            condition_distances.append(distance)\n",
    "    condition_candidate_distances.append(np.mean(condition_distances))\n",
    "    \n",
    "\n",
    "difference = np.asarray(control_candidate_distances) - np.asarray(condition_candidate_distances)\n",
    "    \n",
    "candidate_distance_df_condition = pd.DataFrame()\n",
    "candidate_distance_df_condition['control_distance'] = control_candidate_distances\n",
    "candidate_distance_df_condition['condition_distance'] = condition_candidate_distances\n",
    "candidate_distance_df_condition['distance_difference'] = difference\n",
    "candidate_distance_df_condition['indexes'] = candidate_distance_df_condition.index\n",
    "\n",
    "\n",
    "sorted_candidate_df_condition = candidate_distance_df_condition.sort_values(by='distance_difference')\n",
    "first_candidate_condition = sorted_candidate_df_condition['indexes'].iloc[-1]\n",
    "second_candidate_condition = sorted_candidate_df_condition['indexes'].iloc[-2]\n",
    "\n",
    "candidate_distance_df_condition[candidate_distance_df_condition['distance_difference']==max(candidate_distance_df_condition['distance_difference'])]"
   ]
  },
  {
   "cell_type": "code",
   "execution_count": 118,
   "metadata": {},
   "outputs": [],
   "source": [
    "#TODO what happens if its a partner\n",
    "\n",
    "control_selected_first_candidate = control_subsequences[first_candidate_control]\n",
    "control_prototype_index = first_candidate_control\n",
    "condition_selected_first_candidate = condition_subsequences[first_candidate_condition]\n",
    "condition_prototype_index = first_candidate_condition\n"
   ]
  },
  {
   "cell_type": "code",
   "execution_count": 119,
   "metadata": {},
   "outputs": [],
   "source": [
    "from scipy import signal\n",
    "\n",
    "def DP_flatness_motif(x,window):\n",
    "    time_series = np.array(x,dtype=float)\n",
    "    my_window = len(time_series) - window\n",
    "    window_size = window # Approximately, how many data points might be found in a pattern\n",
    "    matrix_profile = stumpy.stump(time_series, m=window_size)\n",
    "    df_matrix_profile = pd.DataFrame()\n",
    "    df_matrix_profile['distances']= matrix_profile[:,0]\n",
    "    df_matrix_profile['indexes']= df_matrix_profile.index\n",
    "    top_motifs = df_matrix_profile.sort_values(by='distances')[0:10]\n",
    "    distance_sum = np.sum(top_motifs['distances'])\n",
    "    entropy_sum = np.sum([np.log(x) for x in top_motifs['distances']])\n",
    "    entropy = entropy_sum * 1/len(top_motifs['distances'])\n",
    "    entropy = np.exp(entropy)\n",
    "    #entropy = entropy/(distance_sum/len(top_motifs['distances']))\n",
    "    return entropy"
   ]
  },
  {
   "cell_type": "code",
   "execution_count": 120,
   "metadata": {},
   "outputs": [],
   "source": [
    "def subsequence_features(window):\n",
    "    df_features = pd.DataFrame()\n",
    "    \n",
    "    mean = []\n",
    "    std = []\n",
    "    control_distances_first = []\n",
    "    condition_distances_first = []\n",
    "    control_distances_second = []\n",
    "    condition_distances_second = []\n",
    "    motif_entropies = []\n",
    "    \n",
    "    for x in control_evaluate:\n",
    "        mean.append(np.mean(x))\n",
    "        std.append(np.std(x))\n",
    "        top_motif = extract_top_shapelet(x, window)\n",
    "        #motif_entropies.append(DP_flatness_motif(x, 2500))\n",
    "        \n",
    "        control_distance_first = scipy.spatial.distance.euclidean(top_motif, control_selected_first_candidate)\n",
    "        control_distances_first.append(control_distance_first)\n",
    "        \n",
    "        condition_distance_first = scipy.spatial.distance.euclidean(top_motif, condition_selected_first_candidate)\n",
    "        condition_distances_first.append(condition_distance_first)\n",
    "\n",
    "        \n",
    "    for x in condition_evaluate:\n",
    "        mean.append(np.mean(x))\n",
    "        std.append(np.std(x))\n",
    "        top_motif = extract_top_shapelet(x, window)\n",
    "       # motif_entropies.append(DP_flatness_motif(x, 2500))\n",
    "\n",
    "        \n",
    "        control_distance_first = scipy.spatial.distance.euclidean(top_motif, control_selected_first_candidate)\n",
    "        control_distances_first.append(control_distance_first)\n",
    "        \n",
    "        condition_distance_first = scipy.spatial.distance.euclidean(top_motif, condition_selected_first_candidate)\n",
    "        condition_distances_first.append(condition_distance_first)\n",
    "\n",
    "        \n",
    "    df_features_train = pd.DataFrame()\n",
    "    df_features_train['mean'] = normalise(mean)\n",
    "    df_features_train['std'] = normalise(std)\n",
    "    df_features_train['control_distance_first'] = normalise(control_distances_first)\n",
    "    df_features_train['condition_distance_first'] = normalise(condition_distances_first)\n",
    "    #df_features_train['motif entropy'] = normalise(motif_entropies)\n",
    "    #df_features_train['control_distance_second'] = normalise(control_distances_second)\n",
    "    #df_features_train['condition_distance_second'] = normalise(condition_distances_second)\n",
    "\n",
    "\n",
    "    return(df_features_train.values)"
   ]
  },
  {
   "cell_type": "code",
   "execution_count": 121,
   "metadata": {},
   "outputs": [
    {
     "name": "stderr",
     "output_type": "stream",
     "text": [
      "/Users/tortysivill/.pyenv/versions/3.7.3/envs/entropy/lib/python3.7/site-packages/stumpy/core.py:427: RuntimeWarning: invalid value encountered in sqrt\n",
      "  return np.sqrt(welford_nanvar(a, w))\n"
     ]
    },
    {
     "name": "stdout",
     "output_type": "stream",
     "text": [
      "[0 0 0 ... 0 0 0]\n",
      "[  0   0   0 ...   0  12 184]\n",
      "[1384 2668 4658 ...  568  197  259]\n",
      "[  3   3  53 ... 268 268  74]\n",
      "[321   0   0 ...   0   0   0]\n",
      "[ 550  783  154 ...  550  425 1010]\n",
      "[0 0 0 ... 0 0 0]\n",
      "[  0   0   0 ... 231 313 971]\n",
      "[18 55 30 ...  6 44 21]\n",
      "[3 0 0 ... 0 0 0]\n",
      "[174   0   0 ...   0   0   0]\n",
      "[0 0 0 ... 0 0 0]\n",
      "[0 0 0 ... 0 0 0]\n",
      "[3325 8000 6772 ... 1010  688 1183]\n",
      "[545 545 407 ...  23   5 449]\n",
      "[ 30   0   0 ... 201   0 103]\n",
      "[3 3 3 ... 8 8 8]\n",
      "[ 74  34  91 ... 424 945 915]\n",
      "[568   0   0 ...   0   0   0]\n",
      "[  49   24   37 ... 1042 1894 1260]\n",
      "[336  16   5 ...   7   7   7]\n",
      "[0 0 0 ... 0 0 2]\n",
      "[   0    3   44 ...  321  713 1254]\n",
      "[0 0 0 ... 0 0 0]\n",
      "[   0    0   66 ... 1212 1212 1824]\n",
      "[1386 1386 1301 ...    0    0    0]\n",
      "[   0   16    0 ... 1123  930 1055]\n",
      "[191 217 273 ...  26  28   0]\n",
      "[ 11 386 919 ...   0   0   0]\n",
      "[  9   9   9 ...   9   9 384]\n",
      "[   5   50   52 ... 1102 1509 1824]\n",
      "[   3    3    3 ... 2752 2284 2146]\n",
      "[  0   0 394 ...   0   0   0]\n",
      "[0 0 0 ... 0 0 0]\n",
      "[248 464  60 ...  63 421 100]\n",
      "[129 218   4 ...   0   0   0]\n",
      "[0 0 0 ... 0 0 0]\n",
      "[296  59  68 ... 945 687 665]\n",
      "[208 322 168 ...   0   3  63]\n",
      "[93  0  0 ...  0  0  0]\n",
      "[149  50 160 ...  34   4   0]\n"
     ]
    },
    {
     "name": "stderr",
     "output_type": "stream",
     "text": [
      "/Users/tortysivill/.pyenv/versions/3.7.3/envs/entropy/lib/python3.7/site-packages/sklearn/metrics/_classification.py:1221: UndefinedMetricWarning: Precision is ill-defined and being set to 0.0 in labels with no predicted samples. Use `zero_division` parameter to control this behavior.\n",
      "  _warn_prf(average, modifier, msg_start, len(result))\n",
      "/Users/tortysivill/.pyenv/versions/3.7.3/envs/entropy/lib/python3.7/site-packages/sklearn/metrics/_classification.py:1221: UndefinedMetricWarning: Precision is ill-defined and being set to 0.0 in labels with no predicted samples. Use `zero_division` parameter to control this behavior.\n",
      "  _warn_prf(average, modifier, msg_start, len(result))\n",
      "/Users/tortysivill/.pyenv/versions/3.7.3/envs/entropy/lib/python3.7/site-packages/sklearn/metrics/_classification.py:1221: UndefinedMetricWarning: Precision is ill-defined and being set to 0.0 in labels with no predicted samples. Use `zero_division` parameter to control this behavior.\n",
      "  _warn_prf(average, modifier, msg_start, len(result))\n"
     ]
    },
    {
     "name": "stdout",
     "output_type": "stream",
     "text": [
      "[0.635]\n",
      "[0.58391667]\n",
      "[0.655]\n",
      "[0.58928571]\n",
      "[0.16286497]\n",
      "[0.22086385]\n",
      "[0.16948451]\n",
      "[0.18161923]\n"
     ]
    }
   ],
   "source": [
    "import statsmodels.api as sm\n",
    "\n",
    "from sklearn.ensemble import RandomForestClassifier \n",
    "\n",
    "\n",
    "X = subsequence_features(selected_window)\n",
    "\n",
    "accuracy_scores = []\n",
    "precision_scores = []\n",
    "recall_scores = []\n",
    "F1_scores = []\n",
    "\n",
    "\n",
    "rfc = RandomForestClassifier(n_estimators=2200, min_samples_split=3, min_samples_leaf=1)\n",
    "accuracy_scores.append(cross_val_score(rfc, X, y_evaluate, cv=10, scoring='accuracy'))\n",
    "precision_scores.append(cross_val_score(rfc, X, y_evaluate, cv=10, scoring='precision_weighted'))\n",
    "recall_scores.append(cross_val_score(rfc, X, y_evaluate, cv=10, scoring='recall_weighted'))\n",
    "F1_scores.append(cross_val_score(rfc, X, y_evaluate, cv=10, scoring='f1_weighted'))\n",
    "\n",
    "\n",
    "print(np.mean(accuracy_scores,axis=1))\n",
    "print(np.mean(precision_scores,axis=1))\n",
    "print(np.mean(recall_scores,axis=1))\n",
    "print(np.mean(F1_scores,axis=1))\n",
    "\n",
    "\n",
    "print(np.std(accuracy_scores,axis=1))\n",
    "print(np.std(precision_scores,axis=1))\n",
    "print(np.std(recall_scores,axis=1))\n",
    "print(np.std(F1_scores,axis=1))"
   ]
  },
  {
   "cell_type": "markdown",
   "metadata": {},
   "source": [
    "## Semantic Interpretation"
   ]
  },
  {
   "cell_type": "code",
   "execution_count": 122,
   "metadata": {},
   "outputs": [
    {
     "data": {
      "text/plain": [
       "array([0, 0, 0, ..., 0, 0, 0])"
      ]
     },
     "execution_count": 122,
     "metadata": {},
     "output_type": "execute_result"
    }
   ],
   "source": [
    "control_selected_first_candidate"
   ]
  },
  {
   "cell_type": "code",
   "execution_count": 123,
   "metadata": {},
   "outputs": [
    {
     "data": {
      "text/plain": [
       "array([249,  40,  14, ...,   0,   0,   0])"
      ]
     },
     "execution_count": 123,
     "metadata": {},
     "output_type": "execute_result"
    }
   ],
   "source": [
    "condition_selected_first_candidate"
   ]
  },
  {
   "cell_type": "code",
   "execution_count": 124,
   "metadata": {},
   "outputs": [
    {
     "name": "stdout",
     "output_type": "stream",
     "text": [
      "4944\n"
     ]
    },
    {
     "data": {
      "image/png": "[encoded data removed]",
      "text/plain": [
       "<Figure size 432x288 with 2 Axes>"
      ]
     },
     "metadata": {
      "needs_background": "light"
     },
     "output_type": "display_data"
    }
   ],
   "source": [
    "# Matrix profile for Condition samples\n",
    "\n",
    "time_series = np.array(control[control_prototype_index]['activity'][0:10000],dtype=float)\n",
    "matrix_profile = stumpy.stump(time_series, m=window_size)\n",
    "df_matrix_profile = pd.DataFrame(matrix_profile)\n",
    "df_matrix_profile['indexes'] = df_matrix_profile.index\n",
    "df_matrix_profile_sorted = df_matrix_profile.sort_values(by=0)\n",
    "top_motif_index1 = df_matrix_profile_sorted.iloc[0][1]\n",
    "top_motif_index2 = df_matrix_profile_sorted.iloc[0]['indexes']\n",
    "print(top_motif_index1)\n",
    "\n",
    "from matplotlib.patches import Rectangle\n",
    "fig, axs = plt.subplots(2, sharex=True, gridspec_kw={'hspace': 0})\n",
    "plt.suptitle('Motif (Pattern) Discovery', fontsize='30')\n",
    "\n",
    "axs[0].plot(control[control_prototype_index]['activity'].values[0:10000])\n",
    "axs[0].set_ylabel('TS', fontsize='20')\n",
    "rect = Rectangle((top_motif_index1, 0), window_size, 5000, facecolor='cyan')\n",
    "axs[0].add_patch(rect)\n",
    "rect = Rectangle((top_motif_index2, 0), window_size, 5000, facecolor='cyan')\n",
    "axs[0].add_patch(rect)\n",
    "axs[1].set_xlabel('Time', fontsize ='20')\n",
    "axs[1].set_ylabel('Matrix Profile', fontsize='20')\n",
    "axs[1].axvline(x=top_motif_index1, linestyle=\"dashed\")\n",
    "axs[1].axvline(x=top_motif_index2, linestyle=\"dashed\")\n",
    "axs[1].plot(matrix_profile[:, 0])\n",
    "\n",
    "plt.show()"
   ]
  },
  {
   "cell_type": "code",
   "execution_count": 125,
   "metadata": {},
   "outputs": [
    {
     "name": "stdout",
     "output_type": "stream",
     "text": [
      "4\n"
     ]
    },
    {
     "name": "stderr",
     "output_type": "stream",
     "text": [
      "/Users/tortysivill/.pyenv/versions/3.7.3/envs/entropy/lib/python3.7/site-packages/ipykernel_launcher.py:3: SettingWithCopyWarning: \n",
      "A value is trying to be set on a copy of a slice from a DataFrame.\n",
      "Try using .loc[row_indexer,col_indexer] = value instead\n",
      "\n",
      "See the caveats in the documentation: https://pandas.pydata.org/pandas-docs/stable/user_guide/indexing.html#returning-a-view-versus-a-copy\n",
      "  This is separate from the ipykernel package so we can avoid doing imports until\n",
      "/Users/tortysivill/.pyenv/versions/3.7.3/envs/entropy/lib/python3.7/site-packages/ipykernel_launcher.py:5: SettingWithCopyWarning: \n",
      "A value is trying to be set on a copy of a slice from a DataFrame.\n",
      "Try using .loc[row_indexer,col_indexer] = value instead\n",
      "\n",
      "See the caveats in the documentation: https://pandas.pydata.org/pandas-docs/stable/user_guide/indexing.html#returning-a-view-versus-a-copy\n",
      "  \"\"\"\n",
      "/Users/tortysivill/.pyenv/versions/3.7.3/envs/entropy/lib/python3.7/site-packages/ipykernel_launcher.py:6: SettingWithCopyWarning: \n",
      "A value is trying to be set on a copy of a slice from a DataFrame.\n",
      "Try using .loc[row_indexer,col_indexer] = value instead\n",
      "\n",
      "See the caveats in the documentation: https://pandas.pydata.org/pandas-docs/stable/user_guide/indexing.html#returning-a-view-versus-a-copy\n",
      "  \n"
     ]
    }
   ],
   "source": [
    "prototype_control_semantic = control[control_prototype_index][top_motif_index1:top_motif_index1 + window_size]\n",
    "timestamps = prototype_control_semantic.index\n",
    "prototype_control_semantic['timestamp'] = timestamps\n",
    "print(prototype_control_semantic['timestamp'][0].dayofweek)\n",
    "prototype_control_semantic['hour'] = [entire_timestamp.hour for entire_timestamp in timestamps]\n",
    "prototype_control_semantic['day'] = [entire_timestamp.dayofyear for entire_timestamp in timestamps]\n",
    "prototype_control_grouped = prototype_control_semantic.groupby(['day','hour'])['activity'].sum()"
   ]
  },
  {
   "cell_type": "code",
   "execution_count": 136,
   "metadata": {},
   "outputs": [
    {
     "data": {
      "image/png": "[encoded data removed]",
      "text/plain": [
       "<Figure size 432x288 with 1 Axes>"
      ]
     },
     "metadata": {
      "needs_background": "light"
     },
     "output_type": "display_data"
    }
   ],
   "source": [
    "hours = [x[1] for x in prototype_control_grouped.index]\n",
    "plt.plot(list(prototype_control_grouped))\n",
    "plt.xticks(np.arange(len(hours)),hours, fontsize=\"xx-small\")\n",
    "plt.xlabel(\"Hour of Day\")\n",
    "plt.ylabel(\"Total Hourly Activity\")\n",
    "plt.title(\"Control Prototype: Thursday Evening to Saturday Morning\")\n",
    "plt.savefig('Prototype_Images/Depresjon/control.eps') "
   ]
  },
  {
   "cell_type": "code",
   "execution_count": 132,
   "metadata": {},
   "outputs": [
    {
     "name": "stdout",
     "output_type": "stream",
     "text": [
      "286\n"
     ]
    },
    {
     "data": {
      "image/png": "[encoded data removed]",
      "text/plain": [
       "<Figure size 432x288 with 2 Axes>"
      ]
     },
     "metadata": {
      "needs_background": "light"
     },
     "output_type": "display_data"
    }
   ],
   "source": [
    "# Matrix profile for Condition samples\n",
    "\n",
    "time_series = np.array(condition[condition_prototype_index]['activity'][0:10000],dtype=float)\n",
    "matrix_profile = stumpy.stump(time_series, m=window_size)\n",
    "df_matrix_profile = pd.DataFrame(matrix_profile)\n",
    "df_matrix_profile['indexes'] = df_matrix_profile.index\n",
    "df_matrix_profile_sorted = df_matrix_profile.sort_values(by=0)\n",
    "top_motif_index1 = df_matrix_profile_sorted.iloc[0][1]\n",
    "top_motif_index2 = df_matrix_profile_sorted.iloc[0]['indexes']\n",
    "print(top_motif_index1)\n",
    "\n",
    "from matplotlib.patches import Rectangle\n",
    "fig, axs = plt.subplots(2, sharex=True, gridspec_kw={'hspace': 0})\n",
    "plt.suptitle('Motif (Pattern) Discovery', fontsize='30')\n",
    "\n",
    "axs[0].plot(condition[condition_prototype_index]['activity'].values[0:10000])\n",
    "axs[0].set_ylabel('TS', fontsize='20')\n",
    "rect = Rectangle((top_motif_index1, 0), window_size, 5000, facecolor='cyan')\n",
    "axs[0].add_patch(rect)\n",
    "rect = Rectangle((top_motif_index2, 0), window_size, 5000, facecolor='cyan')\n",
    "axs[0].add_patch(rect)\n",
    "axs[1].set_xlabel('Time', fontsize ='20')\n",
    "axs[1].set_ylabel('Matrix Profile', fontsize='20')\n",
    "axs[1].axvline(x=top_motif_index1, linestyle=\"dashed\")\n",
    "axs[1].axvline(x=top_motif_index2, linestyle=\"dashed\")\n",
    "axs[1].plot(matrix_profile[:, 0])\n",
    "\n",
    "plt.show()"
   ]
  },
  {
   "cell_type": "code",
   "execution_count": 133,
   "metadata": {},
   "outputs": [
    {
     "name": "stdout",
     "output_type": "stream",
     "text": [
      "3\n"
     ]
    },
    {
     "name": "stderr",
     "output_type": "stream",
     "text": [
      "/Users/tortysivill/.pyenv/versions/3.7.3/envs/entropy/lib/python3.7/site-packages/ipykernel_launcher.py:3: SettingWithCopyWarning: \n",
      "A value is trying to be set on a copy of a slice from a DataFrame.\n",
      "Try using .loc[row_indexer,col_indexer] = value instead\n",
      "\n",
      "See the caveats in the documentation: https://pandas.pydata.org/pandas-docs/stable/user_guide/indexing.html#returning-a-view-versus-a-copy\n",
      "  This is separate from the ipykernel package so we can avoid doing imports until\n",
      "/Users/tortysivill/.pyenv/versions/3.7.3/envs/entropy/lib/python3.7/site-packages/ipykernel_launcher.py:5: SettingWithCopyWarning: \n",
      "A value is trying to be set on a copy of a slice from a DataFrame.\n",
      "Try using .loc[row_indexer,col_indexer] = value instead\n",
      "\n",
      "See the caveats in the documentation: https://pandas.pydata.org/pandas-docs/stable/user_guide/indexing.html#returning-a-view-versus-a-copy\n",
      "  \"\"\"\n",
      "/Users/tortysivill/.pyenv/versions/3.7.3/envs/entropy/lib/python3.7/site-packages/ipykernel_launcher.py:6: SettingWithCopyWarning: \n",
      "A value is trying to be set on a copy of a slice from a DataFrame.\n",
      "Try using .loc[row_indexer,col_indexer] = value instead\n",
      "\n",
      "See the caveats in the documentation: https://pandas.pydata.org/pandas-docs/stable/user_guide/indexing.html#returning-a-view-versus-a-copy\n",
      "  \n"
     ]
    }
   ],
   "source": [
    "prototype_condition_semantic = condition[condition_prototype_index][top_motif_index1:top_motif_index1 + window_size]\n",
    "timestamps = prototype_condition_semantic.index\n",
    "prototype_condition_semantic['timestamp'] = timestamps\n",
    "print(prototype_condition_semantic['timestamp'][0].dayofweek)\n",
    "prototype_condition_semantic['hour'] = [entire_timestamp.hour for entire_timestamp in timestamps]\n",
    "prototype_condition_semantic['day'] = [entire_timestamp.dayofyear for entire_timestamp in timestamps]\n",
    "prototype_condition_grouped = prototype_condition_semantic.groupby(['day','hour'])['activity'].sum()"
   ]
  },
  {
   "cell_type": "code",
   "execution_count": 137,
   "metadata": {},
   "outputs": [
    {
     "data": {
      "image/png": "[encoded data removed]",
      "text/plain": [
       "<Figure size 432x288 with 1 Axes>"
      ]
     },
     "metadata": {
      "needs_background": "light"
     },
     "output_type": "display_data"
    }
   ],
   "source": [
    "hours = [x[1] for x in prototype_condition_grouped.index]\n",
    "plt.plot(list(prototype_condition_grouped))\n",
    "plt.xticks(np.arange(len(hours)),hours, fontsize=\"xx-small\")\n",
    "plt.xlabel(\"Hour of Day\")\n",
    "plt.ylabel(\"Total Hourly Activity\")\n",
    "plt.title(\"Condition Prototype: Wednesday Evening to Friday Morning\")\n",
    "plt.savefig('Prototype_Images/Depresjon/condition.eps') "
   ]
  },
  {
   "cell_type": "code",
   "execution_count": null,
   "metadata": {},
   "outputs": [],
   "source": []
  }
 ],
 "metadata": {
  "kernelspec": {
   "display_name": "Python 3",
   "language": "python",
   "name": "python3"
  },
  "language_info": {
   "codemirror_mode": {
    "name": "ipython",
    "version": 3
   },
   "file_extension": ".py",
   "mimetype": "text/x-python",
   "name": "python",
   "nbconvert_exporter": "python",
   "pygments_lexer": "ipython3",
   "version": "3.7.3"
  }
 },
 "nbformat": 4,
 "nbformat_minor": 2
}
